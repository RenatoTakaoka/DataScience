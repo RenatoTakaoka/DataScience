{
 "cells": [
  {
   "cell_type": "code",
   "id": "initial_id",
   "metadata": {
    "collapsed": true,
    "ExecuteTime": {
     "end_time": "2024-09-02T22:34:02.460147Z",
     "start_time": "2024-09-02T22:34:02.455649Z"
    }
   },
   "source": [
    "import numpy as np\n",
    "\n",
    "filme1 = [2.5] * 10 + [3.5] * 10\n",
    "np.mean(filme1)\n",
    "filme2 = [5] * 10 + [1] * 10\n",
    "np.mean(filme2)"
   ],
   "outputs": [
    {
     "data": {
      "text/plain": [
       "3.0"
      ]
     },
     "execution_count": 1,
     "metadata": {},
     "output_type": "execute_result"
    }
   ],
   "execution_count": 1
  },
  {
   "metadata": {
    "ExecuteTime": {
     "end_time": "2024-09-02T22:34:04.448114Z",
     "start_time": "2024-09-02T22:34:04.444152Z"
    }
   },
   "cell_type": "code",
   "source": [
    "media_filme1 = np.mean (filme1)\n",
    "mediana_filme1 = np.median (filme1)\n",
    "\n",
    "media_filme2 = np.mean (filme2)\n",
    "mediana_filme2 = np.median (filme2)\n",
    "\n",
    "print(\"Filme 1:\")\n",
    "print(\"Média:\", media_filme1)\n",
    "print(\"Mediana:\", mediana_filme1)\n",
    "\n",
    "print(\"\\nFilme 2:\")\n",
    "print(\"Média:\", media_filme2)\n",
    "print(\"Mediana:\", mediana_filme2)"
   ],
   "id": "42438919d1d3c1ae",
   "outputs": [
    {
     "name": "stdout",
     "output_type": "stream",
     "text": [
      "Filme 1:\n",
      "Média: 3.0\n",
      "Mediana: 3.0\n",
      "\n",
      "Filme 2:\n",
      "Média: 3.0\n",
      "Mediana: 3.0\n"
     ]
    }
   ],
   "execution_count": 2
  },
  {
   "metadata": {
    "ExecuteTime": {
     "end_time": "2024-09-02T22:34:15.280829Z",
     "start_time": "2024-09-02T22:34:15.277179Z"
    }
   },
   "cell_type": "code",
   "source": [
    "filme0 = [3.0] * 20 #espalha 0\n",
    "np.mean (filme0)"
   ],
   "id": "bed5a3ba873ae440",
   "outputs": [
    {
     "data": {
      "text/plain": [
       "3.0"
      ]
     },
     "execution_count": 4,
     "metadata": {},
     "output_type": "execute_result"
    }
   ],
   "execution_count": 4
  },
  {
   "metadata": {
    "ExecuteTime": {
     "end_time": "2024-09-02T22:34:16.799012Z",
     "start_time": "2024-09-02T22:34:16.795670Z"
    }
   },
   "cell_type": "code",
   "source": "np.std(filme0), np.std(filme1), np.std(filme2)",
   "id": "3fd400f9e641cccb",
   "outputs": [
    {
     "data": {
      "text/plain": [
       "(0.0, 0.5, 2.0)"
      ]
     },
     "execution_count": 5,
     "metadata": {},
     "output_type": "execute_result"
    }
   ],
   "execution_count": 5
  },
  {
   "metadata": {
    "ExecuteTime": {
     "end_time": "2024-09-02T22:35:58.451932Z",
     "start_time": "2024-09-02T22:35:58.447421Z"
    }
   },
   "cell_type": "code",
   "source": [
    "import pandas as pd\n",
    "import numpy as np\n",
    "\n",
    "# Criando DataFrame de exemplo\n",
    "dados = np.array([[100, 120, 90, 110, 130], [80, 150, 70, 140, 60]])\n",
    "\n",
    "df = pd.DataFrame(dados, index=[\"Semana 1\", \"Semana 2\"],\n",
    "                  columns=[\"Segunda\", \"Terça\", \"Quarta\", \"Quinta\", \"Sexta\"])\n",
    "\n",
    "# Calculando o desvio padrão das visitas por semana\n",
    "desvio_padrao_semana1 = df.loc[\"Semana 1\"].std()\n",
    "desvio_padrao_semana2 = df.loc[\"Semana 2\"].std()\n",
    "\n",
    "print(df)\n",
    "print(\"\\nDesvio Padrão da Semana 1:\", round(desvio_padrao_semana1, 2))\n",
    "print(\"Desvio Padrão da Semana 2:\", round(desvio_padrao_semana2, 2))\n"
   ],
   "id": "2c600ab44572de62",
   "outputs": [
    {
     "name": "stdout",
     "output_type": "stream",
     "text": [
      "          Segunda  Terça  Quarta  Quinta  Sexta\n",
      "Semana 1      100    120      90     110    130\n",
      "Semana 2       80    150      70     140     60\n",
      "\n",
      "Desvio Padrão da Semana 1: 15.81\n",
      "Desvio Padrão da Semana 2: 41.83\n"
     ]
    }
   ],
   "execution_count": 7
  },
  {
   "metadata": {},
   "cell_type": "code",
   "outputs": [],
   "execution_count": null,
   "source": "",
   "id": "f02844d08e6f7800"
  }
 ],
 "metadata": {
  "kernelspec": {
   "display_name": "Python 3",
   "language": "python",
   "name": "python3"
  },
  "language_info": {
   "codemirror_mode": {
    "name": "ipython",
    "version": 2
   },
   "file_extension": ".py",
   "mimetype": "text/x-python",
   "name": "python",
   "nbconvert_exporter": "python",
   "pygments_lexer": "ipython2",
   "version": "2.7.6"
  }
 },
 "nbformat": 4,
 "nbformat_minor": 5
}
